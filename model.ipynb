{
  "nbformat": 4,
  "nbformat_minor": 0,
  "metadata": {
    "accelerator": "GPU",
    "colab": {
      "name": "model.ipynb",
      "provenance": [],
      "authorship_tag": "ABX9TyPKOR6VnB1tJMug/nUs2E9q",
      "include_colab_link": true
    },
    "kernelspec": {
      "display_name": "Python 3",
      "name": "python3"
    }
  },
  "cells": [
    {
      "cell_type": "markdown",
      "metadata": {
        "id": "view-in-github",
        "colab_type": "text"
      },
      "source": [
        "<a href=\"https://colab.research.google.com/github/MuhammedAshraf2020/HandWrittenDigitRecognizerUsingKerasAndFlask/blob/main/model.ipynb\" target=\"_parent\"><img src=\"https://colab.research.google.com/assets/colab-badge.svg\" alt=\"Open In Colab\"/></a>"
      ]
    },
    {
      "cell_type": "markdown",
      "metadata": {
        "id": "uYLRRncRN6c1"
      },
      "source": [
        "**Import Data**"
      ]
    },
    {
      "cell_type": "code",
      "metadata": {
        "id": "KVmcrZrxrr6Q"
      },
      "source": [
        "from keras.datasets.mnist import load_data"
      ],
      "execution_count": 1,
      "outputs": []
    },
    {
      "cell_type": "code",
      "metadata": {
        "colab": {
          "base_uri": "https://localhost:8080/"
        },
        "id": "0oRVHKDor1Ea",
        "outputId": "c5c4fc98-ddee-47ce-b880-dedf2f908094"
      },
      "source": [
        "(X_train ,y_train ) , (X_test , y_test) = load_data()"
      ],
      "execution_count": 2,
      "outputs": [
        {
          "output_type": "stream",
          "text": [
            "Downloading data from https://storage.googleapis.com/tensorflow/tf-keras-datasets/mnist.npz\n",
            "11493376/11490434 [==============================] - 0s 0us/step\n"
          ],
          "name": "stdout"
        }
      ]
    },
    {
      "cell_type": "code",
      "metadata": {
        "id": "1gJYagVZr9tv"
      },
      "source": [
        "import numpy as np\r\n",
        "import pandas as pd\r\n",
        "import matplotlib.pyplot as plt"
      ],
      "execution_count": 3,
      "outputs": []
    },
    {
      "cell_type": "code",
      "metadata": {
        "id": "jinvvp1asFbH"
      },
      "source": [
        "from keras.models import Sequential\r\n",
        "from keras.models import Model\r\n",
        "from keras.layers import Conv2D , MaxPooling2D , Dense , Flatten , Dropout"
      ],
      "execution_count": 4,
      "outputs": []
    },
    {
      "cell_type": "code",
      "metadata": {
        "id": "rl-D-mJavW0s"
      },
      "source": [
        "X_train = X_train / 255\r\n",
        "X_test  = X_test / 255\r\n",
        "X_train = np.expand_dims(X_train, -1)\r\n",
        "X_test = np.expand_dims(X_test, -1)"
      ],
      "execution_count": 5,
      "outputs": []
    },
    {
      "cell_type": "code",
      "metadata": {
        "id": "eLyGaH5nxPx-"
      },
      "source": [
        "import keras"
      ],
      "execution_count": 6,
      "outputs": []
    },
    {
      "cell_type": "code",
      "metadata": {
        "id": "Gyq5CkjbxOY4"
      },
      "source": [
        "y_train = keras.utils.to_categorical(y_train, 10)\r\n",
        "y_test = keras.utils.to_categorical(y_test, 10)"
      ],
      "execution_count": 7,
      "outputs": []
    },
    {
      "cell_type": "code",
      "metadata": {
        "id": "e2UF5r_lZBmH"
      },
      "source": [
        "model2 = keras.models.Sequential([\r\n",
        "    keras.layers.Conv2D(32 , kernel_size = (3 , 3) , strides = (1 , 1) , input_shape = (28 , 28 , 1)) , \r\n",
        "    keras.layers.MaxPooling2D(pool_size = (2 , 2) ) , \r\n",
        "    keras.layers.Conv2D(64 , kernel_size = (3 , 3)) , \r\n",
        "    keras.layers.MaxPooling2D(pool_size = (2 , 2)) , \r\n",
        "    Flatten(),\r\n",
        "    Dense(120 , activation = \"relu\") , \r\n",
        "    Dropout(0.4) , \r\n",
        "    Dense(84 , activation = \"relu\") ,\r\n",
        "    Dense(10, activation=\"softmax\"),\r\n",
        "\r\n",
        "])"
      ],
      "execution_count": 9,
      "outputs": []
    },
    {
      "cell_type": "code",
      "metadata": {
        "id": "cs2yTDj1lOz6"
      },
      "source": [
        "Callback_check = keras.callbacks.ModelCheckpoint(\r\n",
        "    \"/content\", monitor='val_accuracy', verbose = 1 , save_best_only=True,\r\n",
        "    save_weights_only = False, mode='auto', save_freq='epoch')"
      ],
      "execution_count": 10,
      "outputs": []
    },
    {
      "cell_type": "code",
      "metadata": {
        "colab": {
          "base_uri": "https://localhost:8080/"
        },
        "id": "O4oHzwQIdwno",
        "outputId": "517ebb0d-caa0-42a4-dfdf-d1b73862bb24"
      },
      "source": [
        "model2.summary()"
      ],
      "execution_count": 11,
      "outputs": [
        {
          "output_type": "stream",
          "text": [
            "Model: \"sequential\"\n",
            "_________________________________________________________________\n",
            "Layer (type)                 Output Shape              Param #   \n",
            "=================================================================\n",
            "conv2d_1 (Conv2D)            (None, 26, 26, 32)        320       \n",
            "_________________________________________________________________\n",
            "max_pooling2d (MaxPooling2D) (None, 13, 13, 32)        0         \n",
            "_________________________________________________________________\n",
            "conv2d_2 (Conv2D)            (None, 11, 11, 64)        18496     \n",
            "_________________________________________________________________\n",
            "max_pooling2d_1 (MaxPooling2 (None, 5, 5, 64)          0         \n",
            "_________________________________________________________________\n",
            "flatten (Flatten)            (None, 1600)              0         \n",
            "_________________________________________________________________\n",
            "dense (Dense)                (None, 120)               192120    \n",
            "_________________________________________________________________\n",
            "dropout (Dropout)            (None, 120)               0         \n",
            "_________________________________________________________________\n",
            "dense_1 (Dense)              (None, 84)                10164     \n",
            "_________________________________________________________________\n",
            "dense_2 (Dense)              (None, 10)                850       \n",
            "=================================================================\n",
            "Total params: 221,950\n",
            "Trainable params: 221,950\n",
            "Non-trainable params: 0\n",
            "_________________________________________________________________\n"
          ],
          "name": "stdout"
        }
      ]
    },
    {
      "cell_type": "code",
      "metadata": {
        "id": "-gZYAGhJZFX-",
        "colab": {
          "base_uri": "https://localhost:8080/"
        },
        "outputId": "c176a5b2-4399-4ea7-c50f-b398e68a0df4"
      },
      "source": [
        "model2.compile(loss=\"categorical_crossentropy\", optimizer=\"adam\", metrics=[\"accuracy\"])\r\n",
        "\r\n",
        "model2.fit(X_train, y_train, batch_size = 120 , epochs = 15 , validation_split=0.3 , callbacks = [Callback_check])"
      ],
      "execution_count": 12,
      "outputs": [
        {
          "output_type": "stream",
          "text": [
            "Epoch 1/15\n",
            "350/350 [==============================] - 9s 5ms/step - loss: 0.7397 - accuracy: 0.7636 - val_loss: 0.0935 - val_accuracy: 0.9704\n",
            "\n",
            "Epoch 00001: val_accuracy improved from -inf to 0.97044, saving model to /content\n",
            "INFO:tensorflow:Assets written to: /content/assets\n",
            "Epoch 2/15\n",
            "350/350 [==============================] - 1s 4ms/step - loss: 0.1257 - accuracy: 0.9620 - val_loss: 0.0722 - val_accuracy: 0.9775\n",
            "\n",
            "Epoch 00002: val_accuracy improved from 0.97044 to 0.97750, saving model to /content\n",
            "INFO:tensorflow:Assets written to: /content/assets\n",
            "Epoch 3/15\n",
            "350/350 [==============================] - 1s 4ms/step - loss: 0.0832 - accuracy: 0.9759 - val_loss: 0.0538 - val_accuracy: 0.9841\n",
            "\n",
            "Epoch 00003: val_accuracy improved from 0.97750 to 0.98406, saving model to /content\n",
            "INFO:tensorflow:Assets written to: /content/assets\n",
            "Epoch 4/15\n",
            "350/350 [==============================] - 1s 4ms/step - loss: 0.0605 - accuracy: 0.9813 - val_loss: 0.0500 - val_accuracy: 0.9854\n",
            "\n",
            "Epoch 00004: val_accuracy improved from 0.98406 to 0.98539, saving model to /content\n",
            "INFO:tensorflow:Assets written to: /content/assets\n",
            "Epoch 5/15\n",
            "350/350 [==============================] - 1s 4ms/step - loss: 0.0544 - accuracy: 0.9834 - val_loss: 0.0506 - val_accuracy: 0.9858\n",
            "\n",
            "Epoch 00005: val_accuracy improved from 0.98539 to 0.98578, saving model to /content\n",
            "INFO:tensorflow:Assets written to: /content/assets\n",
            "Epoch 6/15\n",
            "350/350 [==============================] - 1s 4ms/step - loss: 0.0476 - accuracy: 0.9856 - val_loss: 0.0515 - val_accuracy: 0.9861\n",
            "\n",
            "Epoch 00006: val_accuracy improved from 0.98578 to 0.98606, saving model to /content\n",
            "INFO:tensorflow:Assets written to: /content/assets\n",
            "Epoch 7/15\n",
            "350/350 [==============================] - 1s 4ms/step - loss: 0.0410 - accuracy: 0.9872 - val_loss: 0.0487 - val_accuracy: 0.9867\n",
            "\n",
            "Epoch 00007: val_accuracy improved from 0.98606 to 0.98667, saving model to /content\n",
            "INFO:tensorflow:Assets written to: /content/assets\n",
            "Epoch 8/15\n",
            "350/350 [==============================] - 1s 4ms/step - loss: 0.0409 - accuracy: 0.9869 - val_loss: 0.0446 - val_accuracy: 0.9877\n",
            "\n",
            "Epoch 00008: val_accuracy improved from 0.98667 to 0.98772, saving model to /content\n",
            "INFO:tensorflow:Assets written to: /content/assets\n",
            "Epoch 9/15\n",
            "350/350 [==============================] - 1s 4ms/step - loss: 0.0305 - accuracy: 0.9892 - val_loss: 0.0424 - val_accuracy: 0.9880\n",
            "\n",
            "Epoch 00009: val_accuracy improved from 0.98772 to 0.98800, saving model to /content\n",
            "INFO:tensorflow:Assets written to: /content/assets\n",
            "Epoch 10/15\n",
            "350/350 [==============================] - 1s 4ms/step - loss: 0.0306 - accuracy: 0.9909 - val_loss: 0.0550 - val_accuracy: 0.9869\n",
            "\n",
            "Epoch 00010: val_accuracy did not improve from 0.98800\n",
            "Epoch 11/15\n",
            "350/350 [==============================] - 1s 4ms/step - loss: 0.0313 - accuracy: 0.9893 - val_loss: 0.0443 - val_accuracy: 0.9885\n",
            "\n",
            "Epoch 00011: val_accuracy improved from 0.98800 to 0.98850, saving model to /content\n",
            "INFO:tensorflow:Assets written to: /content/assets\n",
            "Epoch 12/15\n",
            "350/350 [==============================] - 1s 4ms/step - loss: 0.0232 - accuracy: 0.9929 - val_loss: 0.0538 - val_accuracy: 0.9879\n",
            "\n",
            "Epoch 00012: val_accuracy did not improve from 0.98850\n",
            "Epoch 13/15\n",
            "350/350 [==============================] - 1s 4ms/step - loss: 0.0263 - accuracy: 0.9919 - val_loss: 0.0468 - val_accuracy: 0.9887\n",
            "\n",
            "Epoch 00013: val_accuracy improved from 0.98850 to 0.98872, saving model to /content\n",
            "INFO:tensorflow:Assets written to: /content/assets\n",
            "Epoch 14/15\n",
            "350/350 [==============================] - 2s 4ms/step - loss: 0.0207 - accuracy: 0.9920 - val_loss: 0.0469 - val_accuracy: 0.9889\n",
            "\n",
            "Epoch 00014: val_accuracy improved from 0.98872 to 0.98889, saving model to /content\n",
            "INFO:tensorflow:Assets written to: /content/assets\n",
            "Epoch 15/15\n",
            "350/350 [==============================] - 1s 4ms/step - loss: 0.0196 - accuracy: 0.9934 - val_loss: 0.0493 - val_accuracy: 0.9888\n",
            "\n",
            "Epoch 00015: val_accuracy did not improve from 0.98889\n"
          ],
          "name": "stdout"
        },
        {
          "output_type": "execute_result",
          "data": {
            "text/plain": [
              "<tensorflow.python.keras.callbacks.History at 0x7fec3812a6a0>"
            ]
          },
          "metadata": {
            "tags": []
          },
          "execution_count": 12
        }
      ]
    },
    {
      "cell_type": "code",
      "metadata": {
        "colab": {
          "base_uri": "https://localhost:8080/"
        },
        "id": "LQO28xX1ksP6",
        "outputId": "06cc85af-e413-479b-9841-a66735af9242"
      },
      "source": [
        "model2.evaluate(X_test , y_test)"
      ],
      "execution_count": 13,
      "outputs": [
        {
          "output_type": "stream",
          "text": [
            "313/313 [==============================] - 1s 3ms/step - loss: 0.0389 - accuracy: 0.9906\n"
          ],
          "name": "stdout"
        },
        {
          "output_type": "execute_result",
          "data": {
            "text/plain": [
              "[0.038869813084602356, 0.9905999898910522]"
            ]
          },
          "metadata": {
            "tags": []
          },
          "execution_count": 13
        }
      ]
    },
    {
      "cell_type": "code",
      "metadata": {
        "id": "jed1XY82nInZ"
      },
      "source": [
        "model2.save(\"HandWrittenModel.h5\")"
      ],
      "execution_count": 14,
      "outputs": []
    },
    {
      "cell_type": "code",
      "metadata": {
        "id": "xfjDzJrzWUqJ"
      },
      "source": [
        "M = keras.models.load_model(\"HandWrittenModel.h5\")"
      ],
      "execution_count": 15,
      "outputs": []
    },
    {
      "cell_type": "code",
      "metadata": {
        "colab": {
          "base_uri": "https://localhost:8080/",
          "height": 144
        },
        "id": "f-Zea2lie9_L",
        "outputId": "b96dfc83-1791-4bb1-8cfb-6fe533e8dbb5"
      },
      "source": [
        "fig = plt.figure(figsize = (18 , 18))\r\n",
        "for i  in range(1 , 9):\r\n",
        "  fig.add_subplot(1 , 8 , i)\r\n",
        "  plt.imshow(X_train[i][: , : , 0])\r\n",
        "plt.show()"
      ],
      "execution_count": 29,
      "outputs": [
        {
          "output_type": "display_data",
          "data": {
            "image/png": "[encoded data removed]",
            "text/plain": [
              "<Figure size 1296x1296 with 8 Axes>"
            ]
          },
          "metadata": {
            "tags": [],
            "needs_background": "light"
          }
        }
      ]
    },
    {
      "cell_type": "code",
      "metadata": {
        "colab": {
          "base_uri": "https://localhost:8080/"
        },
        "id": "d5mqZqCRWYP1",
        "outputId": "aa2a88c2-45de-41cb-d712-e008ddbd6920"
      },
      "source": [
        "np.argmax(M.predict(X_train[1:9]) , axis = -1)"
      ],
      "execution_count": 31,
      "outputs": [
        {
          "output_type": "execute_result",
          "data": {
            "text/plain": [
              "array([0, 4, 1, 9, 2, 1, 3, 1])"
            ]
          },
          "metadata": {
            "tags": []
          },
          "execution_count": 31
        }
      ]
    }
  ]
}